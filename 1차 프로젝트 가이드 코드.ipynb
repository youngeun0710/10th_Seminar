{
 "cells": [
  {
   "cell_type": "markdown",
   "metadata": {},
   "source": [
    "**Kaggle 1차 프로젝트 가이드 코드 📝**\n",
    "\n",
    "이 코드는 프로젝트의 방향성을 제시하기 위한 **매우 기본적인 예시**일 뿐입니다.    \n",
    "정말 간단하게 들어졌으며, 현재 형태로는 **매우 초보적인 결과**를 냅니다. 😅\n",
    "\n",
    "따라서 이 코드는 참고만 하시고, **더 나은 성능의 머신러닝 모델을 만들기 위해** 팀원들 간의 활발한 논의를 통해 **다양한 방법을 탐구해 보세요!**    \n",
    "💡 여러 모델을 시도하고, 그에 맞는 최적의 접근 방식을 찾아 나가는 과정이 중요합니다. 🚀\n",
    "\n",
    "여러분의 **창의적이고 적극적인 시도**를 통해 **더 나은 결과**를 얻기를 기대합니다! 🙌\n"
   ]
  },
  {
   "cell_type": "code",
   "execution_count": 132,
   "metadata": {},
   "outputs": [],
   "source": [
    "import pandas as pd\n",
    "import numpy as np\n",
    "import matplotlib.pyplot as plt\n",
    "import seaborn as sns\n",
    "from sklearn.model_selection import train_test_split, GridSearchCV\n",
    "from sklearn.preprocessing import LabelEncoder, StandardScaler\n",
    "from sklearn.ensemble import RandomForestClassifier\n",
    "from sklearn.metrics import classification_report, confusion_matrix, accuracy_score"
   ]
  },
  {
   "cell_type": "markdown",
   "metadata": {},
   "source": [
    "## 데이터 열 설명\n",
    "\n",
    "1. **id**\n",
    "   - **설명**: 각 버섯 샘플의 고유 식별자입니다.\n",
    "   - **유형**: 정수형(ID)\n",
    "\n",
    "2. **class**\n",
    "   - **설명**: 버섯의 독성 여부를 나타내는 타겟 변수입니다.\n",
    "     - `'e'`: 식용 가능(Edible)\n",
    "     - `'p'`: 독성이 있음(Poisonous)\n",
    "   - **유형**: 범주형(문자열)\n",
    "\n",
    "3. **cap-diameter**\n",
    "   - **설명**: 버섯 갓의 지름을 나타냅니다.\n",
    "   - **유형**: 연속형(실수형)\n",
    "\n",
    "4. **cap-shape**\n",
    "   - **설명**: 버섯 갓의 모양을 나타냅니다.\n",
    "     - 예: 종형(bell), 원추형(conical), 평평한(flat) 등\n",
    "   - **유형**: 범주형(문자열)\n",
    "\n",
    "... (생략)"
   ]
  },
  {
   "cell_type": "code",
   "execution_count": 133,
   "metadata": {},
   "outputs": [],
   "source": [
    "# 데이터 로드\n",
    "train = pd.read_csv('train.csv')\n",
    "test = pd.read_csv('test.csv')"
   ]
  },
  {
   "cell_type": "code",
   "execution_count": 134,
   "metadata": {},
   "outputs": [
    {
     "name": "stdout",
     "output_type": "stream",
     "text": [
      "   id class  cap-diameter cap-shape cap-surface cap-color  \\\n",
      "0   0     e          8.80         f           s         u   \n",
      "1   1     p          4.51         x           h         o   \n",
      "2   2     e          6.94         f           s         b   \n",
      "3   3     e          3.88         f           y         g   \n",
      "4   4     e          5.85         x           l         w   \n",
      "\n",
      "  does-bruise-or-bleed gill-attachment gill-spacing gill-color  ...  \\\n",
      "0                    f               a            c          w  ...   \n",
      "1                    f               a            c          n  ...   \n",
      "2                    f               x            c          w  ...   \n",
      "3                    f               s          NaN          g  ...   \n",
      "4                    f               d          NaN          w  ...   \n",
      "\n",
      "   stem-root  stem-surface stem-color veil-type veil-color has-ring ring-type  \\\n",
      "0        NaN           NaN          w       NaN        NaN        f         f   \n",
      "1        NaN             y          o       NaN        NaN        t         z   \n",
      "2        NaN             s          n       NaN        NaN        f         f   \n",
      "3        NaN           NaN          w       NaN        NaN        f         f   \n",
      "4        NaN           NaN          w       NaN        NaN        f         f   \n",
      "\n",
      "  spore-print-color habitat season  \n",
      "0               NaN       d      a  \n",
      "1               NaN       d      w  \n",
      "2               NaN       l      w  \n",
      "3               NaN       d      u  \n",
      "4               NaN       g      a  \n",
      "\n",
      "[5 rows x 22 columns]\n"
     ]
    }
   ],
   "source": [
    "print(train.head())"
   ]
  },
  {
   "cell_type": "code",
   "execution_count": 135,
   "metadata": {},
   "outputs": [
    {
     "name": "stdout",
     "output_type": "stream",
     "text": [
      "<class 'pandas.core.frame.DataFrame'>\n",
      "RangeIndex: 3116945 entries, 0 to 3116944\n",
      "Data columns (total 22 columns):\n",
      " #   Column                Dtype  \n",
      "---  ------                -----  \n",
      " 0   id                    int64  \n",
      " 1   class                 object \n",
      " 2   cap-diameter          float64\n",
      " 3   cap-shape             object \n",
      " 4   cap-surface           object \n",
      " 5   cap-color             object \n",
      " 6   does-bruise-or-bleed  object \n",
      " 7   gill-attachment       object \n",
      " 8   gill-spacing          object \n",
      " 9   gill-color            object \n",
      " 10  stem-height           float64\n",
      " 11  stem-width            float64\n",
      " 12  stem-root             object \n",
      " 13  stem-surface          object \n",
      " 14  stem-color            object \n",
      " 15  veil-type             object \n",
      " 16  veil-color            object \n",
      " 17  has-ring              object \n",
      " 18  ring-type             object \n",
      " 19  spore-print-color     object \n",
      " 20  habitat               object \n",
      " 21  season                object \n",
      "dtypes: float64(3), int64(1), object(18)\n",
      "memory usage: 523.2+ MB\n",
      "None\n"
     ]
    }
   ],
   "source": [
    "print(train.info())"
   ]
  },
  {
   "cell_type": "code",
   "execution_count": 136,
   "metadata": {},
   "outputs": [
    {
     "name": "stdout",
     "output_type": "stream",
     "text": [
      "                 id  cap-diameter   stem-height    stem-width\n",
      "count  3.116945e+06  3.116941e+06  3.116945e+06  3.116945e+06\n",
      "mean   1.558472e+06  6.309848e+00  6.348333e+00  1.115379e+01\n",
      "std    8.997847e+05  4.657931e+00  2.699755e+00  8.095477e+00\n",
      "min    0.000000e+00  3.000000e-02  0.000000e+00  0.000000e+00\n",
      "25%    7.792360e+05  3.320000e+00  4.670000e+00  4.970000e+00\n",
      "50%    1.558472e+06  5.750000e+00  5.880000e+00  9.650000e+00\n",
      "75%    2.337708e+06  8.240000e+00  7.410000e+00  1.563000e+01\n",
      "max    3.116944e+06  8.067000e+01  8.872000e+01  1.029000e+02\n"
     ]
    }
   ],
   "source": [
    "print(train.describe())"
   ]
  },
  {
   "cell_type": "code",
   "execution_count": 137,
   "metadata": {},
   "outputs": [
    {
     "data": {
      "image/png": "[encoded data removed]",
      "text/plain": [
       "<Figure size 640x480 with 1 Axes>"
      ]
     },
     "metadata": {},
     "output_type": "display_data"
    }
   ],
   "source": [
    "# 타겟 클래스 분포 시각화\n",
    "sns.countplot(x='class', data=train)\n",
    "plt.title('Target Class Distribution')\n",
    "plt.show()"
   ]
  },
  {
   "cell_type": "code",
   "execution_count": 138,
   "metadata": {},
   "outputs": [
    {
     "name": "stdout",
     "output_type": "stream",
     "text": [
      "id                            0\n",
      "class                         0\n",
      "cap-diameter                  4\n",
      "cap-shape                    40\n",
      "cap-surface              671023\n",
      "cap-color                    12\n",
      "does-bruise-or-bleed          8\n",
      "gill-attachment          523936\n",
      "gill-spacing            1258435\n",
      "gill-color                   57\n",
      "stem-height                   0\n",
      "stem-width                    0\n",
      "stem-root               2757023\n",
      "stem-surface            1980861\n",
      "stem-color                   38\n",
      "veil-type               2957493\n",
      "veil-color              2740947\n",
      "has-ring                     24\n",
      "ring-type                128880\n",
      "spore-print-color       2849682\n",
      "habitat                      45\n",
      "season                        0\n",
      "dtype: int64\n"
     ]
    }
   ],
   "source": [
    "print(train.isnull().sum())"
   ]
  },
  {
   "cell_type": "markdown",
   "metadata": {},
   "source": [
    "### 결측치 처리 가이드\n",
    "\n",
    "여러분, 데이터 전처리를 할 때 결측치 처리 전략은 매우 중요합니다.    \n",
    "아래 내용을 참고하여 결측치를 어떻게 다룰지 결정해 주세요.\n",
    "\n",
    "1. **결측치가 적은 열**: `cap-diameter`, `cap-shape`, `cap-color`, `does-bruise-or-bleed`, `gill-color`, `stem-color`, `has-ring`, `habitat`, `ring-type`, `stem-height`\n",
    "   - 이 열들의 결측치는 해당 열의 **최빈값**으로 채워주세요.    \n",
    "   - 최빈값을 사용하는 이유는 **범주형 변수**에서 최빈값이 전체 데이터의 분포를 가장 잘 대표하기 때문에, 데이터 손실을 최소화하면서 모델의 성능을 유지할 수 있습니다.\n",
    "\n",
    "2. **결측치가 많은 열**: `cap-surface`, `gill-attachment`, `gill-spacing`, `stem-root`, `stem-surface`, `veil-type`, `veil-color`, `spore-print-color`\n",
    "   - 이 열들은 결측치가 **전체 데이터의 70% 이상**을 차지하므로, 그대로 두면 모델 성능에 큰 영향을 줄 수 있습니다. 따라서 이 열들은 **삭제하는 것**이 바람직할 수도 있습니다.\n",
    "   - 하지만 만약 이 열들이 중요한 정보를 가지고 있다고 생각된다면, 다른 특성과의 관계를 분석한 후, **예측 모델**(예: 회귀 모델이나 결정 트리 등)을 사용해 결측치를 대체하는 방법도 고려해 볼 수 있습니다.     \n",
    "   이를 통해 중요한 정보를 최대한 보존하면서 데이터의 품질을 유지할 수 있습니다.\n",
    "\n",
    "\n",
    "위 가이드를 참고해서, 결측치 처리 방안을 결정해 주시기 바랍니다. 필요한 경우, 팀원들과 상의해서 최적의 방법을 선택해 주세요!\n"
   ]
  },
  {
   "cell_type": "code",
   "execution_count": 139,
   "metadata": {},
   "outputs": [
    {
     "name": "stderr",
     "output_type": "stream",
     "text": [
      "/var/folders/qw/mzv50j6x5rv2qzc9dhcx2b4r0000gn/T/ipykernel_18369/2855726641.py:19: FutureWarning: A value is trying to be set on a copy of a DataFrame or Series through chained assignment using an inplace method.\n",
      "The behavior will change in pandas 3.0. This inplace method will never work because the intermediate object on which we are setting values always behaves as a copy.\n",
      "\n",
      "For example, when doing 'df[col].method(value, inplace=True)', try using 'df.method({col: value}, inplace=True)' or df[col] = df[col].method(value) instead, to perform the operation inplace on the original object.\n",
      "\n",
      "\n",
      "  combined[col].fillna(mode_value, inplace=True)  # 최빈값으로 결측치 대체\n"
     ]
    },
    {
     "name": "stdout",
     "output_type": "stream",
     "text": [
      "Data preparation complete.\n"
     ]
    }
   ],
   "source": [
    "import pandas as pd\n",
    "from sklearn.preprocessing import LabelEncoder, StandardScaler\n",
    "import numpy as np\n",
    "\n",
    "# 데이터 로드\n",
    "train = pd.read_csv('train.csv')\n",
    "test = pd.read_csv('test.csv')\n",
    "\n",
    "# 'source' 열 추가를 통해 train/test 구분 및 결합\n",
    "train['source'] = 'train'\n",
    "test['source'] = 'test'\n",
    "test['class'] = np.nan  # test 데이터에 'class' 열 추가 (임시)\n",
    "combined = pd.concat([train, test], ignore_index=True)\n",
    "\n",
    "# 결측치 처리: 모든 열의 결측치를 최빈값으로 대체\n",
    "for col in combined.columns:\n",
    "    if combined[col].isnull().sum() > 0:\n",
    "        mode_value = combined[col].mode()[0]  # 각 열의 최빈값 계산\n",
    "        combined[col].fillna(mode_value, inplace=True)  # 최빈값으로 결측치 대체\n",
    "\n",
    "# 범주형 변수 레이블 인코딩\n",
    "label_cols = combined.select_dtypes(include='object').columns\n",
    "label_encoder = LabelEncoder()\n",
    "\n",
    "for col in label_cols:\n",
    "    combined[col] = label_encoder.fit_transform(combined[col].astype(str))\n",
    "\n",
    "# 다시 train/test 데이터 분리\n",
    "train = combined[combined['source'] == label_encoder.transform(['train'])[0]].drop('source', axis=1)\n",
    "test = combined[combined['source'] == label_encoder.transform(['test'])[0]].drop(['source', 'class'], axis=1)\n",
    "\n",
    "# 독립 변수(X)와 종속 변수(y) 분리\n",
    "X = train.drop(['id', 'class'], axis=1)\n",
    "y = train['class']\n",
    "\n",
    "# 데이터 스케일링\n",
    "scaler = StandardScaler()\n",
    "X_scaled = scaler.fit_transform(X)\n",
    "test_scaled = scaler.transform(test.drop('id', axis=1))\n",
    "\n",
    "# 데이터 준비 완료\n",
    "print(\"Data preparation complete.\")\n"
   ]
  },
  {
   "cell_type": "code",
   "execution_count": 140,
   "metadata": {},
   "outputs": [],
   "source": [
    "# 학습 데이터와 검증 데이터 분리\n",
    "X_train, X_val, y_train, y_val = train_test_split(X, y, test_size=0.2, random_state=42)"
   ]
  },
  {
   "cell_type": "code",
   "execution_count": 141,
   "metadata": {},
   "outputs": [
    {
     "name": "stderr",
     "output_type": "stream",
     "text": [
      "Training RandomForest: 100%|██████████| 100/100 [04:13<00:00,  2.54s/it]\n"
     ]
    }
   ],
   "source": [
    "def monitor_progress(n_estimators, X_train, y_train):\n",
    "    rf = RandomForestClassifier(n_estimators=1, warm_start=True, random_state=42)\n",
    "    for i in tqdm(range(1, n_estimators + 1), desc=\"Training RandomForest\"):\n",
    "        rf.n_estimators = i  # 각 단계에서 트리의 수를 증가시킴\n",
    "        rf.fit(X_train, y_train)\n",
    "    return rf\n",
    "\n",
    "# 학습 진행 상황 모니터링을 위해 설정\n",
    "n_estimators = 100  # 트리 개수 설정\n",
    "rf = monitor_progress(n_estimators, X_train, y_train)\n"
   ]
  },
  {
   "cell_type": "markdown",
   "metadata": {},
   "source": [
    "# 다른 모델들도 탐색해 보세요! 🔍\n",
    "\n",
    "우리는 이 코드에서 **랜덤 포레스트(Random Forest)** 를 사용하여 모델을 학습했습니다.    \n",
    "랜덤 포레스트는 여러 결정 트리를 결합하여 예측을 개선하고, 과적합을 방지하는 앙상블 기법 중 하나입니다.       \n",
    "하지만, 다양한 데이터 특성과 문제에 맞게 **다른 모델들**을 탐색해 보는 것도 매우 중요합니다! \n",
    "\n",
    "## 추천할 만한 다른 모델들 💡\n",
    "\n",
    "1. **로지스틱 회귀(Logistic Regression)**:\n",
    "   - 이진 분류 문제에서 자주 사용되는 선형 모델입니다.     \n",
    "     해석이 용이하며, 과적합을 방지하는 정규화를 적용할 수 있습니다.\n",
    "\n",
    "2. **서포트 벡터 머신(SVM, Support Vector Machine)**:\n",
    "   - 고차원 공간에서 데이터를 분리하는 경계를 찾는 모델입니다.     \n",
    "     커널 트릭을 이용하여 비선형 문제에도 적용할 수 있습니다.\n",
    "\n",
    "3. **K-최근접 이웃(K-Nearest Neighbors, KNN)**:\n",
    "   - 인접한 데이터 포인트의 다수를 기반으로 예측을 수행합니다.      \n",
    "     간단하면서도 효과적인 비모수적 모델입니다.\n",
    "\n",
    "4. **결정 트리(Decision Tree)**:\n",
    "   - 규칙 기반의 모델로, 직관적이고 시각화가 쉬워 설명력이 뛰어납니다.      \n",
    "     하지만 단일 결정 트리는 과적합될 수 있기 때문에 주의가 필요합니다.\n",
    "\n",
    "5. **그레이디언트 부스팅(Gradient Boosting)**:\n",
    "   - 앙상블 학습의 일종으로, 연속적으로 모델을 학습하여 예측 성능을 개선합니다.     \n",
    "     XGBoost, LightGBM, CatBoost와 같은 다양한 구현체가 있습니다.\n",
    "\n",
    "6. **신경망(Neural Networks)**:\n",
    "   - 딥러닝 모델로, 복잡한 데이터와 비선형 문제를 다룰 수 있는 강력한 모델입니다.     \n",
    "     많은 데이터와 계산 리소스가 필요하지만, 이미지나 텍스트와 같은 복잡한 데이터에서 뛰어난 성능을 보입니다.\n",
    "\n",
    "## 하이퍼파라미터 튜닝과 다른 방안도 고려하세요! 🔧\n",
    "\n",
    "모델 성능을 최대한으로 끌어올리기 위해서는 단순히 모델을 변경하는 것뿐만 아니라, **하이퍼파라미터 튜닝**도 중요합니다. \n",
    "\n",
    "### 하이퍼파라미터 튜닝의 예시:\n",
    "\n",
    "- **n_estimators**: 트리의 개수\n",
    "- **max_depth**: 트리의 최대 깊이\n",
    "- **min_samples_split**: 노드를 분할하기 위한 최소 샘플 수\n",
    "- **learning_rate** (그레이디언트 부스팅의 경우): 학습 속도를 조절하는 파라미터\n",
    "\n",
    "이 외에도 교차 검증, 특성 선택, 데이터 전처리 기법 등을 조합하여 최적의 성능을 도출하는 방법을 탐구해 보세요!     \n",
    "여러분의 팀원들과 함께 다양한 시도를 통해 최고의 결과를 만들어가시기 바랍니다. 🚀\n",
    "\n"
   ]
  },
  {
   "cell_type": "code",
   "execution_count": 142,
   "metadata": {},
   "outputs": [
    {
     "name": "stdout",
     "output_type": "stream",
     "text": [
      "Validation Results:\n",
      "              precision    recall  f1-score   support\n",
      "\n",
      "           0       0.99      0.99      0.99    282397\n",
      "           1       0.99      0.99      0.99    340992\n",
      "\n",
      "    accuracy                           0.99    623389\n",
      "   macro avg       0.99      0.99      0.99    623389\n",
      "weighted avg       0.99      0.99      0.99    623389\n",
      "\n",
      "Validation Accuracy: 0.9913970249715667\n"
     ]
    }
   ],
   "source": [
    "# 검증 데이터에 대한 예측\n",
    "y_pred = rf.predict(X_val)\n",
    "\n",
    "# 검증 데이터 성능 평가\n",
    "print(\"Validation Results:\")\n",
    "print(classification_report(y_val, y_pred))\n",
    "print('Validation Accuracy:', accuracy_score(y_val, y_pred))\n"
   ]
  },
  {
   "cell_type": "markdown",
   "metadata": {},
   "source": [
    "정확도는 99%에 달하지만, 실제로는 매우 낮은 정확도를 보일 것입니다.   \n",
    "이유는 데이터 전처리를 진행하면서 결측치를 전부 최빈값으로 무작정 채운 결과 데이터가 손상되었기 때문입니다."
   ]
  },
  {
   "cell_type": "code",
   "execution_count": 143,
   "metadata": {},
   "outputs": [
    {
     "name": "stdout",
     "output_type": "stream",
     "text": [
      "Feature Importances:\n",
      "1. stem-width: 0.1318\n",
      "2. cap-surface: 0.0855\n",
      "3. cap-diameter: 0.0798\n",
      "4. gill-attachment: 0.0781\n",
      "5. stem-color: 0.0768\n",
      "6. gill-color: 0.0726\n",
      "7. stem-height: 0.0709\n",
      "8. stem-surface: 0.0609\n",
      "9. gill-spacing: 0.0550\n",
      "10. cap-color: 0.0500\n",
      "11. cap-shape: 0.0498\n",
      "12. ring-type: 0.0419\n",
      "13. does-bruise-or-bleed: 0.0302\n",
      "14. habitat: 0.0295\n",
      "15. stem-root: 0.0278\n",
      "16. has-ring: 0.0238\n",
      "17. spore-print-color: 0.0122\n",
      "18. veil-color: 0.0120\n",
      "19. season: 0.0114\n",
      "20. veil-type: 0.0000\n"
     ]
    },
    {
     "data": {
      "image/png": "[encoded data removed]",
      "text/plain": [
       "<Figure size 1000x600 with 1 Axes>"
      ]
     },
     "metadata": {},
     "output_type": "display_data"
    }
   ],
   "source": [
    "import matplotlib.pyplot as plt\n",
    "import numpy as np\n",
    "import pandas as pd\n",
    "\n",
    "# 특성 중요도 추출\n",
    "feature_importances = rf.feature_importances_\n",
    "\n",
    "# combined 데이터프레임에서 열 이름 가져오기\n",
    "if isinstance(X_train, pd.DataFrame):\n",
    "    feature_names = X_train.columns\n",
    "else:\n",
    "    # 원래 데이터프레임에서 열 이름 가져오기 (combined에서 'id'와 'class' 제외)\n",
    "    feature_names = combined.drop(['id', 'class'], axis=1).columns\n",
    "\n",
    "# 특성 중요도를 내림차순으로 정렬하고 인덱스 가져오기\n",
    "sorted_idx = np.argsort(feature_importances)[::-1]\n",
    "sorted_features = [feature_names[i] for i in sorted_idx]\n",
    "\n",
    "# 특성 중요도 출력\n",
    "print(\"Feature Importances:\")\n",
    "for i, feature in enumerate(sorted_features):\n",
    "    print(f\"{i + 1}. {feature}: {feature_importances[sorted_idx[i]]:.4f}\")\n",
    "\n",
    "# 특성 중요도 시각화\n",
    "plt.figure(figsize=(10, 6))\n",
    "plt.barh(sorted_features, feature_importances[sorted_idx], align='center')\n",
    "plt.xlabel(\"Feature Importance\")\n",
    "plt.ylabel(\"Feature\")\n",
    "plt.title(\"Feature Importances of RandomForest Model\")\n",
    "plt.gca().invert_yaxis()  # 가장 중요한 특성이 위에 오도록 반전\n",
    "plt.show()\n"
   ]
  },
  {
   "cell_type": "code",
   "execution_count": 144,
   "metadata": {},
   "outputs": [
    {
     "name": "stderr",
     "output_type": "stream",
     "text": [
      "/Users/forwarder1121/anaconda3/envs/ossp1-2401/lib/python3.11/site-packages/sklearn/base.py:493: UserWarning: X does not have valid feature names, but RandomForestClassifier was fitted with feature names\n",
      "  warnings.warn(\n"
     ]
    },
    {
     "name": "stdout",
     "output_type": "stream",
     "text": [
      "Submission file created: 'submission.csv'\n"
     ]
    }
   ],
   "source": [
    "# 테스트 데이터에 대한 예측 수행\n",
    "test_predictions = rf.predict(test_scaled)\n",
    "\n",
    "# 제출 파일 생성\n",
    "submission = pd.DataFrame({'id': test['id'], 'class': test_predictions})\n",
    "submission['class'] = submission['class'].map({0: 'e', 1: 'p'})  # 'class' 열을 원래 문자형으로 변환\n",
    "\n",
    "# 제출 파일을 CSV로 저장\n",
    "submission.to_csv('submission.csv', index=False)\n",
    "\n",
    "print(\"Submission file created: 'submission.csv'\")\n"
   ]
  }
 ],
 "metadata": {
  "kernelspec": {
   "display_name": "ossp1-2401",
   "language": "python",
   "name": "python3"
  },
  "language_info": {
   "codemirror_mode": {
    "name": "ipython",
    "version": 3
   },
   "file_extension": ".py",
   "mimetype": "text/x-python",
   "name": "python",
   "nbconvert_exporter": "python",
   "pygments_lexer": "ipython3",
   "version": "3.11.8"
  }
 },
 "nbformat": 4,
 "nbformat_minor": 2
}
